{
  "nbformat": 4,
  "nbformat_minor": 0,
  "metadata": {
    "colab": {
      "provenance": [],
      "toc_visible": true,
      "authorship_tag": "ABX9TyMRCfSAyPYn8dC5XFo2qn2F",
      "include_colab_link": true
    },
    "kernelspec": {
      "name": "python3",
      "display_name": "Python 3"
    },
    "language_info": {
      "name": "python"
    }
  },
  "cells": [
    {
      "cell_type": "markdown",
      "metadata": {
        "id": "view-in-github",
        "colab_type": "text"
      },
      "source": [
        "<a href=\"https://colab.research.google.com/github/makifcevik/tf-practise/blob/main/tf_practise.ipynb\" target=\"_parent\"><img src=\"https://colab.research.google.com/assets/colab-badge.svg\" alt=\"Open In Colab\"/></a>"
      ]
    },
    {
      "cell_type": "code",
      "execution_count": null,
      "metadata": {
        "id": "d-RUAb3R__BZ"
      },
      "outputs": [],
      "source": [
        "import tensorflow as tf\n",
        "import numpy as np"
      ]
    },
    {
      "cell_type": "code",
      "source": [
        "tensor_0d = tf.constant(4)\n",
        "print(tensor_0d)"
      ],
      "metadata": {
        "colab": {
          "base_uri": "https://localhost:8080/"
        },
        "id": "kyR8lBv2AE9Y",
        "outputId": "05cd6915-89e6-45dd-b35a-376c74aa8a4a"
      },
      "execution_count": null,
      "outputs": [
        {
          "output_type": "stream",
          "name": "stdout",
          "text": [
            "tf.Tensor(4, shape=(), dtype=int32)\n"
          ]
        }
      ]
    },
    {
      "cell_type": "code",
      "source": [
        "tensor_1d = tf.constant([2, 0, -3.])\n",
        "print(tensor_1d)"
      ],
      "metadata": {
        "colab": {
          "base_uri": "https://localhost:8080/"
        },
        "id": "HGuNrhnMAWNQ",
        "outputId": "7940321c-a0b5-4c40-c5e2-2c7b95d3dc15"
      },
      "execution_count": null,
      "outputs": [
        {
          "output_type": "stream",
          "name": "stdout",
          "text": [
            "tf.Tensor([ 2.  0. -3.], shape=(3,), dtype=float32)\n"
          ]
        }
      ]
    },
    {
      "cell_type": "code",
      "source": [
        "tensor_2d = tf.constant([\n",
        "    [0, 3, -5],\n",
        "    [5, 3, -1],\n",
        "    [7, -10, 1],\n",
        "    [-4, 0, 6],\n",
        "])\n",
        "print(tensor_2d)"
      ],
      "metadata": {
        "colab": {
          "base_uri": "https://localhost:8080/"
        },
        "id": "_Gl5GRAqAUM1",
        "outputId": "3f7c6d7e-53ac-4cc0-e702-70585bdc36a4"
      },
      "execution_count": null,
      "outputs": [
        {
          "output_type": "stream",
          "name": "stdout",
          "text": [
            "tf.Tensor(\n",
            "[[  0   3  -5]\n",
            " [  5   3  -1]\n",
            " [  7 -10   1]\n",
            " [ -4   0   6]], shape=(4, 3), dtype=int32)\n"
          ]
        }
      ]
    },
    {
      "cell_type": "code",
      "source": [
        "tensor_3d = tf.constant(\n",
        "    [\n",
        "        [\n",
        "            [1, 2, 3],\n",
        "            [4, 5, 6]\n",
        "        ],\n",
        "        [\n",
        "            [7, 8, 9],\n",
        "            [10, 11, 12]\n",
        "        ],\n",
        "        [\n",
        "            [13, 14, 15],\n",
        "            [16, 17, 18]\n",
        "        ],\n",
        "        [\n",
        "            [19, 20, 21],\n",
        "            [22, 23, 24]\n",
        "        ]\n",
        "    ]\n",
        ")\n",
        "print(tensor_3d)"
      ],
      "metadata": {
        "id": "HLHqQ28rBfk9",
        "colab": {
          "base_uri": "https://localhost:8080/"
        },
        "outputId": "c22f9292-38e9-4df9-b2ff-fed48a938598"
      },
      "execution_count": null,
      "outputs": [
        {
          "output_type": "stream",
          "name": "stdout",
          "text": [
            "tf.Tensor(\n",
            "[[[ 1  2  3]\n",
            "  [ 4  5  6]]\n",
            "\n",
            " [[ 7  8  9]\n",
            "  [10 11 12]]\n",
            "\n",
            " [[13 14 15]\n",
            "  [16 17 18]]\n",
            "\n",
            " [[19 20 21]\n",
            "  [22 23 24]]], shape=(4, 2, 3), dtype=int32)\n"
          ]
        }
      ]
    },
    {
      "cell_type": "code",
      "source": [
        "tensor_1d = tf.constant([1, 0, 2., -5])\n",
        "# casted_tensor = tf.cast(tensor_1d, tf.int32)\n",
        "casted_tensor = tf.cast(tensor_1d, tf.bool)\n",
        "print(tensor_1d)\n",
        "print(casted_tensor)"
      ],
      "metadata": {
        "colab": {
          "base_uri": "https://localhost:8080/"
        },
        "id": "Kp3WT3tAbl6b",
        "outputId": "ca060b76-2138-4543-8143-93ec26452bd3"
      },
      "execution_count": null,
      "outputs": [
        {
          "output_type": "stream",
          "name": "stdout",
          "text": [
            "tf.Tensor([ 1.  0.  2. -5.], shape=(4,), dtype=float32)\n",
            "tf.Tensor([ True False  True  True], shape=(4,), dtype=bool)\n"
          ]
        }
      ]
    },
    {
      "cell_type": "code",
      "source": [
        "tensor_string = tf.constant([\"hello\", \"hi\", \"hey\"])\n",
        "print(tensor_string)"
      ],
      "metadata": {
        "colab": {
          "base_uri": "https://localhost:8080/"
        },
        "id": "xFBXBV0odBB4",
        "outputId": "d18be572-00ea-4f63-b5e7-a548e9b1fcaf"
      },
      "execution_count": null,
      "outputs": [
        {
          "output_type": "stream",
          "name": "stdout",
          "text": [
            "tf.Tensor([b'hello' b'hi' b'hey'], shape=(3,), dtype=string)\n"
          ]
        }
      ]
    },
    {
      "cell_type": "code",
      "source": [
        "array = np.arange(0, 10, 2)\n",
        "converted_array = tf.convert_to_tensor(array)\n",
        "print(converted_array)"
      ],
      "metadata": {
        "colab": {
          "base_uri": "https://localhost:8080/"
        },
        "id": "QyNNer80d8zN",
        "outputId": "5dc47517-423e-408a-91dc-af669f93ea3d"
      },
      "execution_count": null,
      "outputs": [
        {
          "output_type": "stream",
          "name": "stdout",
          "text": [
            "tf.Tensor([0 2 4 6 8], shape=(5,), dtype=int64)\n"
          ]
        }
      ]
    },
    {
      "cell_type": "code",
      "source": [
        "eye_tensor = tf.eye(\n",
        "    num_rows=5,\n",
        "    num_columns=3,\n",
        "    # batch_shape=[3, 2]\n",
        ")\n",
        "print(eye_tensor)"
      ],
      "metadata": {
        "colab": {
          "base_uri": "https://localhost:8080/"
        },
        "id": "4aafOTuFeXzG",
        "outputId": "725dc1e9-4cb0-4684-ea19-ef2a0d678594"
      },
      "execution_count": null,
      "outputs": [
        {
          "output_type": "stream",
          "name": "stdout",
          "text": [
            "tf.Tensor(\n",
            "[[1. 0. 0.]\n",
            " [0. 1. 0.]\n",
            " [0. 0. 1.]\n",
            " [0. 0. 0.]\n",
            " [0. 0. 0.]], shape=(5, 3), dtype=float32)\n"
          ]
        }
      ]
    },
    {
      "cell_type": "code",
      "source": [
        "fill_tensor = tf.fill([2, 5], 7)\n",
        "print(fill_tensor)\n",
        "ones_tensor = tf.ones([3, 4])\n",
        "print(ones_tensor)\n",
        "zeros_tensor = tf.zeros([8, 1])\n",
        "print(zeros_tensor)\n",
        "bool_tensor = tf.cast(zeros_tensor, tf.bool)\n",
        "print(bool_tensor)"
      ],
      "metadata": {
        "colab": {
          "base_uri": "https://localhost:8080/"
        },
        "id": "KCqB0oVffHrB",
        "outputId": "8f58e572-6789-49dd-a9be-06e0668d9853"
      },
      "execution_count": null,
      "outputs": [
        {
          "output_type": "stream",
          "name": "stdout",
          "text": [
            "tf.Tensor(\n",
            "[[7 7 7 7 7]\n",
            " [7 7 7 7 7]], shape=(2, 5), dtype=int32)\n",
            "tf.Tensor(\n",
            "[[1. 1. 1. 1.]\n",
            " [1. 1. 1. 1.]\n",
            " [1. 1. 1. 1.]], shape=(3, 4), dtype=float32)\n",
            "tf.Tensor(\n",
            "[[0.]\n",
            " [0.]\n",
            " [0.]\n",
            " [0.]\n",
            " [0.]\n",
            " [0.]\n",
            " [0.]\n",
            " [0.]], shape=(8, 1), dtype=float32)\n",
            "tf.Tensor(\n",
            "[[False]\n",
            " [False]\n",
            " [False]\n",
            " [False]\n",
            " [False]\n",
            " [False]\n",
            " [False]\n",
            " [False]], shape=(8, 1), dtype=bool)\n"
          ]
        }
      ]
    },
    {
      "cell_type": "code",
      "source": [
        "np_array = np.zeros([3, 6])\n",
        "tensor = tf.convert_to_tensor(np_array)\n",
        "ones_tensor = tf.ones_like(tensor)\n",
        "print(ones_tensor)"
      ],
      "metadata": {
        "colab": {
          "base_uri": "https://localhost:8080/"
        },
        "id": "D8wvbi1cgCe3",
        "outputId": "22dc89bf-cb81-4b36-a749-23bb7cf4153c"
      },
      "execution_count": null,
      "outputs": [
        {
          "output_type": "stream",
          "name": "stdout",
          "text": [
            "tf.Tensor(\n",
            "[[1. 1. 1. 1. 1. 1.]\n",
            " [1. 1. 1. 1. 1. 1.]\n",
            " [1. 1. 1. 1. 1. 1.]], shape=(3, 6), dtype=float64)\n"
          ]
        }
      ]
    },
    {
      "cell_type": "markdown",
      "source": [
        "# Yeni Bölüm"
      ],
      "metadata": {
        "id": "9o3AbArRi9h6"
      }
    },
    {
      "cell_type": "code",
      "source": [],
      "metadata": {
        "id": "XBczTAIbhT_q"
      },
      "execution_count": null,
      "outputs": []
    }
  ]
}