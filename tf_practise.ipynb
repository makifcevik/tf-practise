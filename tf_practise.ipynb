{
  "nbformat": 4,
  "nbformat_minor": 0,
  "metadata": {
    "colab": {
      "provenance": [],
      "toc_visible": true,
      "authorship_tag": "ABX9TyPque3J/PRl8m0i7cUhdkaW",
      "include_colab_link": true
    },
    "kernelspec": {
      "name": "python3",
      "display_name": "Python 3"
    },
    "language_info": {
      "name": "python"
    }
  },
  "cells": [
    {
      "cell_type": "markdown",
      "metadata": {
        "id": "view-in-github",
        "colab_type": "text"
      },
      "source": [
        "<a href=\"https://colab.research.google.com/github/makifcevik/tf-practise/blob/main/tf_practise.ipynb\" target=\"_parent\"><img src=\"https://colab.research.google.com/assets/colab-badge.svg\" alt=\"Open In Colab\"/></a>"
      ]
    },
    {
      "cell_type": "code",
      "execution_count": 2,
      "metadata": {
        "id": "d-RUAb3R__BZ"
      },
      "outputs": [],
      "source": [
        "import tensorflow as tf\n",
        "import numpy as np"
      ]
    },
    {
      "cell_type": "code",
      "source": [
        "tensor_0d = tf.constant(4)\n",
        "print(tensor_0d)"
      ],
      "metadata": {
        "colab": {
          "base_uri": "https://localhost:8080/"
        },
        "id": "kyR8lBv2AE9Y",
        "outputId": "14109287-08bb-4429-c707-cd9251144237"
      },
      "execution_count": null,
      "outputs": [
        {
          "output_type": "stream",
          "name": "stdout",
          "text": [
            "tf.Tensor(4, shape=(), dtype=int32)\n"
          ]
        }
      ]
    },
    {
      "cell_type": "code",
      "source": [
        "tensor_1d = tf.constant([2, 0, -3.])\n",
        "print(tensor_1d)"
      ],
      "metadata": {
        "colab": {
          "base_uri": "https://localhost:8080/"
        },
        "id": "HGuNrhnMAWNQ",
        "outputId": "3ec657a9-2fa1-4f7c-c989-a20137c931a7"
      },
      "execution_count": null,
      "outputs": [
        {
          "output_type": "stream",
          "name": "stdout",
          "text": [
            "tf.Tensor([ 2.  0. -3.], shape=(3,), dtype=float32)\n"
          ]
        }
      ]
    },
    {
      "cell_type": "code",
      "source": [
        "tensor_2d = tf.constant([\n",
        "    [0, 3, -5],\n",
        "    [5, 3, -1],\n",
        "    [7, -10, 1],\n",
        "    [-4, 0, 6],\n",
        "])\n",
        "print(tensor_2d)"
      ],
      "metadata": {
        "colab": {
          "base_uri": "https://localhost:8080/"
        },
        "id": "_Gl5GRAqAUM1",
        "outputId": "cfe567cc-7eae-44e0-ca61-f01dd4b3b3c8"
      },
      "execution_count": null,
      "outputs": [
        {
          "output_type": "stream",
          "name": "stdout",
          "text": [
            "tf.Tensor(\n",
            "[[  0   3  -5]\n",
            " [  5   3  -1]\n",
            " [  7 -10   1]\n",
            " [ -4   0   6]], shape=(4, 3), dtype=int32)\n"
          ]
        }
      ]
    },
    {
      "cell_type": "code",
      "source": [
        "tensor_3d = tf.constant(\n",
        "    [\n",
        "        [\n",
        "            [1, 2, 3],\n",
        "            [4, 5, 6]\n",
        "        ],\n",
        "        [\n",
        "            [7, 8, 9],\n",
        "            [10, 11, 12]\n",
        "        ],\n",
        "        [\n",
        "            [13, 14, 15],\n",
        "            [16, 17, 18]\n",
        "        ],\n",
        "        [\n",
        "            [19, 20, 21],\n",
        "            [22, 23, 24]\n",
        "        ]\n",
        "    ]\n",
        ")\n",
        "print(tensor_3d)"
      ],
      "metadata": {
        "id": "HLHqQ28rBfk9",
        "colab": {
          "base_uri": "https://localhost:8080/"
        },
        "outputId": "50e603dc-de24-4813-cbe9-f1d18792228f"
      },
      "execution_count": null,
      "outputs": [
        {
          "output_type": "stream",
          "name": "stdout",
          "text": [
            "tf.Tensor(\n",
            "[[[ 1  2  3]\n",
            "  [ 4  5  6]]\n",
            "\n",
            " [[ 7  8  9]\n",
            "  [10 11 12]]\n",
            "\n",
            " [[13 14 15]\n",
            "  [16 17 18]]\n",
            "\n",
            " [[19 20 21]\n",
            "  [22 23 24]]], shape=(4, 2, 3), dtype=int32)\n"
          ]
        }
      ]
    },
    {
      "cell_type": "code",
      "source": [
        "tensor_1d = tf.constant([1, 0, 2., -5])\n",
        "# casted_tensor = tf.cast(tensor_1d, tf.int32)\n",
        "casted_tensor = tf.cast(tensor_1d, tf.bool)\n",
        "print(tensor_1d)\n",
        "print(casted_tensor)"
      ],
      "metadata": {
        "colab": {
          "base_uri": "https://localhost:8080/"
        },
        "id": "Kp3WT3tAbl6b",
        "outputId": "1a07df3e-73ca-4569-a503-b720600a944a"
      },
      "execution_count": null,
      "outputs": [
        {
          "output_type": "stream",
          "name": "stdout",
          "text": [
            "tf.Tensor([ 1.  0.  2. -5.], shape=(4,), dtype=float32)\n",
            "tf.Tensor([ True False  True  True], shape=(4,), dtype=bool)\n"
          ]
        }
      ]
    },
    {
      "cell_type": "code",
      "source": [
        "tensor_string = tf.constant([\"hello\", \"hi\", \"hey\"])\n",
        "print(tensor_string)"
      ],
      "metadata": {
        "colab": {
          "base_uri": "https://localhost:8080/"
        },
        "id": "xFBXBV0odBB4",
        "outputId": "d18be572-00ea-4f63-b5e7-a548e9b1fcaf"
      },
      "execution_count": null,
      "outputs": [
        {
          "output_type": "stream",
          "name": "stdout",
          "text": [
            "tf.Tensor([b'hello' b'hi' b'hey'], shape=(3,), dtype=string)\n"
          ]
        }
      ]
    },
    {
      "cell_type": "code",
      "source": [
        "array = np.arange(0, 10, 2)\n",
        "converted_array = tf.convert_to_tensor(array)\n",
        "print(converted_array)"
      ],
      "metadata": {
        "colab": {
          "base_uri": "https://localhost:8080/"
        },
        "id": "QyNNer80d8zN",
        "outputId": "9541b473-1398-4810-a72f-6af55e93bbc1"
      },
      "execution_count": null,
      "outputs": [
        {
          "output_type": "stream",
          "name": "stdout",
          "text": [
            "tf.Tensor([0 2 4 6 8], shape=(5,), dtype=int64)\n"
          ]
        }
      ]
    },
    {
      "cell_type": "code",
      "source": [
        "eye_tensor = tf.eye(\n",
        "    num_rows=5,\n",
        "    num_columns=3,\n",
        "    # batch_shape=[3, 2]\n",
        ")\n",
        "print(eye_tensor)"
      ],
      "metadata": {
        "colab": {
          "base_uri": "https://localhost:8080/"
        },
        "id": "4aafOTuFeXzG",
        "outputId": "725dc1e9-4cb0-4684-ea19-ef2a0d678594"
      },
      "execution_count": null,
      "outputs": [
        {
          "output_type": "stream",
          "name": "stdout",
          "text": [
            "tf.Tensor(\n",
            "[[1. 0. 0.]\n",
            " [0. 1. 0.]\n",
            " [0. 0. 1.]\n",
            " [0. 0. 0.]\n",
            " [0. 0. 0.]], shape=(5, 3), dtype=float32)\n"
          ]
        }
      ]
    },
    {
      "cell_type": "code",
      "source": [
        "fill_tensor = tf.fill([2, 5], 7)\n",
        "print(fill_tensor)\n",
        "ones_tensor = tf.ones([3, 4])\n",
        "print(ones_tensor)\n",
        "zeros_tensor = tf.zeros([8, 1])\n",
        "print(zeros_tensor)\n",
        "bool_tensor = tf.cast(zeros_tensor, tf.bool)\n",
        "print(bool_tensor)"
      ],
      "metadata": {
        "colab": {
          "base_uri": "https://localhost:8080/"
        },
        "id": "KCqB0oVffHrB",
        "outputId": "a7b94d42-72c8-483f-9c3d-586b78a96442"
      },
      "execution_count": null,
      "outputs": [
        {
          "output_type": "stream",
          "name": "stdout",
          "text": [
            "tf.Tensor(\n",
            "[[7 7 7 7 7]\n",
            " [7 7 7 7 7]], shape=(2, 5), dtype=int32)\n",
            "tf.Tensor(\n",
            "[[1. 1. 1. 1.]\n",
            " [1. 1. 1. 1.]\n",
            " [1. 1. 1. 1.]], shape=(3, 4), dtype=float32)\n",
            "tf.Tensor(\n",
            "[[0.]\n",
            " [0.]\n",
            " [0.]\n",
            " [0.]\n",
            " [0.]\n",
            " [0.]\n",
            " [0.]\n",
            " [0.]], shape=(8, 1), dtype=float32)\n",
            "tf.Tensor(\n",
            "[[False]\n",
            " [False]\n",
            " [False]\n",
            " [False]\n",
            " [False]\n",
            " [False]\n",
            " [False]\n",
            " [False]], shape=(8, 1), dtype=bool)\n"
          ]
        }
      ]
    },
    {
      "cell_type": "code",
      "source": [
        "np_array = np.zeros([3, 6])\n",
        "tensor = tf.convert_to_tensor(np_array)\n",
        "ones_tensor = tf.ones_like(tensor)\n",
        "print(ones_tensor)"
      ],
      "metadata": {
        "colab": {
          "base_uri": "https://localhost:8080/"
        },
        "id": "D8wvbi1cgCe3",
        "outputId": "ed0558c3-03ba-4ede-b0b9-45089d170b81"
      },
      "execution_count": null,
      "outputs": [
        {
          "output_type": "stream",
          "name": "stdout",
          "text": [
            "tf.Tensor(\n",
            "[[1. 1. 1. 1. 1. 1.]\n",
            " [1. 1. 1. 1. 1. 1.]\n",
            " [1. 1. 1. 1. 1. 1.]], shape=(3, 6), dtype=float64)\n"
          ]
        }
      ]
    },
    {
      "cell_type": "code",
      "source": [
        "print(tf.shape(tensor_3d))\n",
        "print(tf.rank(tensor_3d))\n",
        "print(tf.size(tensor_3d))"
      ],
      "metadata": {
        "id": "XBczTAIbhT_q",
        "colab": {
          "base_uri": "https://localhost:8080/"
        },
        "outputId": "223e13e7-f57f-4a32-d19f-4df5aeae8acb"
      },
      "execution_count": null,
      "outputs": [
        {
          "output_type": "stream",
          "name": "stdout",
          "text": [
            "tf.Tensor([4 2 3], shape=(3,), dtype=int32)\n",
            "tf.Tensor(3, shape=(), dtype=int32)\n",
            "tf.Tensor(24, shape=(), dtype=int32)\n"
          ]
        }
      ]
    },
    {
      "cell_type": "code",
      "source": [
        "random_tensor = tf.random.normal(\n",
        "    shape=[2,3],\n",
        "    mean=1.0,\n",
        "    stddev=1.0\n",
        ")\n",
        "print(random_tensor)"
      ],
      "metadata": {
        "colab": {
          "base_uri": "https://localhost:8080/"
        },
        "id": "ZiY3G_1sH-Cb",
        "outputId": "cc34b0f5-7541-45a5-cbe5-00467d5e9072"
      },
      "execution_count": null,
      "outputs": [
        {
          "output_type": "stream",
          "name": "stdout",
          "text": [
            "tf.Tensor(\n",
            "[[ 1.2341671   0.39406025 -0.15055466]\n",
            " [ 3.0897815   0.12669283  1.6548947 ]], shape=(2, 3), dtype=float32)\n"
          ]
        }
      ]
    },
    {
      "cell_type": "code",
      "source": [
        "random_tensor = tf.random.uniform(\n",
        "    shape=[7,],\n",
        "    minval=0,\n",
        "    maxval=5\n",
        ")\n",
        "print(random_tensor)"
      ],
      "metadata": {
        "colab": {
          "base_uri": "https://localhost:8080/"
        },
        "id": "Tbaje5RBJVmc",
        "outputId": "e078e020-891d-4a85-8a35-045820d62148"
      },
      "execution_count": null,
      "outputs": [
        {
          "output_type": "stream",
          "name": "stdout",
          "text": [
            "tf.Tensor(\n",
            "[0.8734119  4.801174   4.6858797  2.5690799  1.7672366  0.67584574\n",
            " 0.10143399], shape=(7,), dtype=float32)\n"
          ]
        }
      ]
    },
    {
      "cell_type": "code",
      "source": [
        "indexed_tensor = tf.constant([\n",
        "    [1, 2, 3], [4, 5, 6], [7, 8, 9], [10, 11, 12]\n",
        "])\n",
        "print(indexed_tensor[1:3, 2:])"
      ],
      "metadata": {
        "colab": {
          "base_uri": "https://localhost:8080/"
        },
        "id": "xGtHmk9wK34V",
        "outputId": "d4b4e03b-3dd6-479f-bbad-c7ce688e4465"
      },
      "execution_count": null,
      "outputs": [
        {
          "output_type": "stream",
          "name": "stdout",
          "text": [
            "tf.Tensor(\n",
            "[[6]\n",
            " [9]], shape=(2, 1), dtype=int32)\n"
          ]
        }
      ]
    },
    {
      "cell_type": "code",
      "source": [
        "abs_tensor = tf.abs(tf.constant([3, 5, -4, 0, -9]))\n",
        "print(abs_tensor)"
      ],
      "metadata": {
        "colab": {
          "base_uri": "https://localhost:8080/"
        },
        "id": "td5_I8NlNhVG",
        "outputId": "d9ea6f72-c974-4121-acba-e349db3b4cbd"
      },
      "execution_count": null,
      "outputs": [
        {
          "output_type": "stream",
          "name": "stdout",
          "text": [
            "tf.Tensor([3 5 4 0 9], shape=(5,), dtype=int32)\n"
          ]
        }
      ]
    },
    {
      "cell_type": "code",
      "source": [
        "abs_tensor = tf.abs(tf.constant([[4 + 3j], [12 - 5j]]))\n",
        "print(abs_tensor)"
      ],
      "metadata": {
        "colab": {
          "base_uri": "https://localhost:8080/"
        },
        "id": "bFm6STJBPQnu",
        "outputId": "fdee7cfc-a4fb-4c7a-fb87-d80af1b9893e"
      },
      "execution_count": null,
      "outputs": [
        {
          "output_type": "stream",
          "name": "stdout",
          "text": [
            "tf.Tensor(\n",
            "[[ 5.]\n",
            " [13.]], shape=(2, 1), dtype=float64)\n"
          ]
        }
      ]
    },
    {
      "cell_type": "code",
      "source": [
        "x1 = tf.constant([[4, 16, 7], [9, 5, 0]], dtype=tf.float32)\n",
        "print(tf.sqrt(x1))"
      ],
      "metadata": {
        "colab": {
          "base_uri": "https://localhost:8080/"
        },
        "id": "BFqGcvhyPbeQ",
        "outputId": "f10dfadc-dd2d-4011-9bc0-c8565b376f3c"
      },
      "execution_count": null,
      "outputs": [
        {
          "output_type": "stream",
          "name": "stdout",
          "text": [
            "tf.Tensor(\n",
            "[[2.        4.        2.6457512]\n",
            " [3.        2.236068  0.       ]], shape=(2, 3), dtype=float32)\n"
          ]
        }
      ]
    },
    {
      "cell_type": "code",
      "source": [
        "x1 = tf.constant([5, 0, -10, 8], dtype=tf.float32)\n",
        "x2 = tf.constant([3, 1, 6, -2], dtype=tf.float32)\n",
        "print(tf.multiply(x1, x2))\n",
        "print(tf.divide(x2, x1))\n",
        "print(tf.math.divide_no_nan(x2, x1))"
      ],
      "metadata": {
        "colab": {
          "base_uri": "https://localhost:8080/"
        },
        "id": "bv6UM9PWQ0JD",
        "outputId": "64ac82e9-c913-4b75-9f7a-ba29ad0ab7b0"
      },
      "execution_count": null,
      "outputs": [
        {
          "output_type": "stream",
          "name": "stdout",
          "text": [
            "tf.Tensor([ 15.   0. -60. -16.], shape=(4,), dtype=float32)\n",
            "tf.Tensor([ 0.6    inf -0.6  -0.25], shape=(4,), dtype=float32)\n",
            "tf.Tensor([ 0.6   0.   -0.6  -0.25], shape=(4,), dtype=float32)\n"
          ]
        }
      ]
    },
    {
      "cell_type": "code",
      "source": [
        "x1 = tf.constant([3, 12, 5, -7])\n",
        "x2 = tf.constant([3])\n",
        "# x2 stretches to match x1\n",
        "print(tf.add(x1, x2))\n",
        "print(tf.add(x2, x1))"
      ],
      "metadata": {
        "colab": {
          "base_uri": "https://localhost:8080/"
        },
        "id": "jLXJc9Z2R0sz",
        "outputId": "cee001e0-dc02-4de5-ba74-055f89e26f17"
      },
      "execution_count": null,
      "outputs": [
        {
          "output_type": "stream",
          "name": "stdout",
          "text": [
            "tf.Tensor([ 6 15  8 -4], shape=(4,), dtype=int32)\n",
            "tf.Tensor([ 6 15  8 -4], shape=(4,), dtype=int32)\n"
          ]
        }
      ]
    },
    {
      "cell_type": "code",
      "source": [
        "x1 = tf.constant([-5, 3, 0])\n",
        "x2 = tf.constant([[4], [0], [-2], [1]])\n",
        "# x1 stretches to match x2\n",
        "print(tf.subtract(x1, x2))"
      ],
      "metadata": {
        "colab": {
          "base_uri": "https://localhost:8080/"
        },
        "id": "NpvGQq6YTeXy",
        "outputId": "f4d225a4-593c-493a-e614-ca7ea42aec40"
      },
      "execution_count": null,
      "outputs": [
        {
          "output_type": "stream",
          "name": "stdout",
          "text": [
            "tf.Tensor(\n",
            "[[-9 -1 -4]\n",
            " [-5  3  0]\n",
            " [-3  5  2]\n",
            " [-6  2 -1]], shape=(4, 3), dtype=int32)\n"
          ]
        }
      ]
    },
    {
      "cell_type": "code",
      "source": [
        "x1 = tf.constant([-10, 5, 1, 0, 12, 9])\n",
        "# argmax and argmin returns the index\n",
        "print(tf.argmax(x1))\n",
        "print(tf.argmin(x1))"
      ],
      "metadata": {
        "colab": {
          "base_uri": "https://localhost:8080/"
        },
        "id": "aOEphyNrTz52",
        "outputId": "73b63513-4354-4808-f84b-ab7df7042cf9"
      },
      "execution_count": null,
      "outputs": [
        {
          "output_type": "stream",
          "name": "stdout",
          "text": [
            "tf.Tensor(4, shape=(), dtype=int64)\n",
            "tf.Tensor(0, shape=(), dtype=int64)\n"
          ]
        }
      ]
    },
    {
      "cell_type": "code",
      "source": [
        "x2 = tf.constant([\n",
        "    [1, 2, 4, 7],\n",
        "    [3, 0, 1, 5]\n",
        "])\n",
        "print(tf.argmax(x2, axis=0))  # fix the rows and compare vertically\n",
        "print(tf.argmax(x2, axis=1))  # fix the columns and compare horizontally"
      ],
      "metadata": {
        "colab": {
          "base_uri": "https://localhost:8080/"
        },
        "id": "kZp6F-zMVEf8",
        "outputId": "28665709-cb32-445b-8737-5158bcef6f54"
      },
      "execution_count": null,
      "outputs": [
        {
          "output_type": "stream",
          "name": "stdout",
          "text": [
            "tf.Tensor([1 0 0 0], shape=(4,), dtype=int64)\n",
            "tf.Tensor([3 3], shape=(2,), dtype=int64)\n"
          ]
        }
      ]
    },
    {
      "cell_type": "code",
      "source": [
        "x1 = tf.constant([[1, 3], [2, 5]])\n",
        "x2 = tf.constant([[0, 2], [1, 3]])\n",
        "print(tf.pow(x1, x2))"
      ],
      "metadata": {
        "colab": {
          "base_uri": "https://localhost:8080/"
        },
        "id": "1TaTpswEVlyM",
        "outputId": "7a4529d1-72dd-49b1-80eb-4ae853090c99"
      },
      "execution_count": null,
      "outputs": [
        {
          "output_type": "stream",
          "name": "stdout",
          "text": [
            "tf.Tensor(\n",
            "[[  1   9]\n",
            " [  2 125]], shape=(2, 2), dtype=int32)\n"
          ]
        }
      ]
    },
    {
      "cell_type": "code",
      "source": [
        "x1 = tf.constant([\n",
        "    [10, 2, 5],\n",
        "    [2, -5, 7],\n",
        "    [6, 2, 12],\n",
        "    [-4, -8, -20]\n",
        "], dtype=tf.float32)\n",
        "# reduces all values to one desired value\n",
        "print(tf.reduce_sum(x1))\n",
        "print(tf.reduce_max(x1))\n",
        "print(tf.reduce_min(x1))\n",
        "print(tf.reduce_mean(x1))\n",
        "print(tf.math.reduce_std(x1))\n",
        "print(tf.reduce_sum(x1, axis=0))\n",
        "print(tf.reduce_sum(x1, axis=1))"
      ],
      "metadata": {
        "colab": {
          "base_uri": "https://localhost:8080/"
        },
        "id": "q6upSvO6WqJN",
        "outputId": "31ae2d49-e9a8-4841-fdf8-4c2912170180"
      },
      "execution_count": 2,
      "outputs": [
        {
          "output_type": "stream",
          "name": "stdout",
          "text": [
            "tf.Tensor(9.0, shape=(), dtype=float32)\n",
            "tf.Tensor(12.0, shape=(), dtype=float32)\n",
            "tf.Tensor(-20.0, shape=(), dtype=float32)\n",
            "tf.Tensor(0.75, shape=(), dtype=float32)\n",
            "tf.Tensor(8.486509, shape=(), dtype=float32)\n",
            "tf.Tensor([14. -9.  4.], shape=(3,), dtype=float32)\n",
            "tf.Tensor([ 17.   4.  20. -32.], shape=(4,), dtype=float32)\n"
          ]
        }
      ]
    },
    {
      "cell_type": "code",
      "source": [
        "x1 = tf.constant([\n",
        "    [10, 2, 5],\n",
        "    [2, -5, 7],\n",
        "    [6, 2, 12],\n",
        "    [-4, -8, -20]\n",
        "], dtype=tf.float32)\n",
        "print(tf.math.top_k(x1), \"\\n\\n\")  # returns the indices of the top k values in each row. (k=1 default)\n",
        "print(tf.math.top_k(x1, k=2))"
      ],
      "metadata": {
        "id": "VhAF69z_XWya",
        "colab": {
          "base_uri": "https://localhost:8080/"
        },
        "outputId": "b1edc938-cf91-4931-df00-f07eba87e638"
      },
      "execution_count": 10,
      "outputs": [
        {
          "output_type": "stream",
          "name": "stdout",
          "text": [
            "TopKV2(values=<tf.Tensor: shape=(4, 1), dtype=float32, numpy=\n",
            "array([[10.],\n",
            "       [ 7.],\n",
            "       [12.],\n",
            "       [-4.]], dtype=float32)>, indices=<tf.Tensor: shape=(4, 1), dtype=int32, numpy=\n",
            "array([[0],\n",
            "       [2],\n",
            "       [2],\n",
            "       [0]], dtype=int32)>) \n",
            "\n",
            "\n",
            "TopKV2(values=<tf.Tensor: shape=(4, 2), dtype=float32, numpy=\n",
            "array([[10.,  5.],\n",
            "       [ 7.,  2.],\n",
            "       [12.,  6.],\n",
            "       [-4., -8.]], dtype=float32)>, indices=<tf.Tensor: shape=(4, 2), dtype=int32, numpy=\n",
            "array([[0, 2],\n",
            "       [2, 0],\n",
            "       [2, 0],\n",
            "       [0, 1]], dtype=int32)>)\n"
          ]
        }
      ]
    },
    {
      "cell_type": "code",
      "source": [
        "x1 = tf.constant([10, -10, 9, 80, 79, 5, -23, 49])\n",
        "print(tf.math.top_k(x1), \"\\n\\n\")\n",
        "print(tf.math.top_k(x1, k=3))"
      ],
      "metadata": {
        "colab": {
          "base_uri": "https://localhost:8080/"
        },
        "id": "PZB5h30ADR0o",
        "outputId": "3d2e7be7-f036-4f85-d9f5-2b2155691e92"
      },
      "execution_count": 11,
      "outputs": [
        {
          "output_type": "stream",
          "name": "stdout",
          "text": [
            "TopKV2(values=<tf.Tensor: shape=(1,), dtype=int32, numpy=array([80], dtype=int32)>, indices=<tf.Tensor: shape=(1,), dtype=int32, numpy=array([3], dtype=int32)>) \n",
            "\n",
            "\n",
            "TopKV2(values=<tf.Tensor: shape=(3,), dtype=int32, numpy=array([80, 79, 49], dtype=int32)>, indices=<tf.Tensor: shape=(3,), dtype=int32, numpy=array([3, 4, 7], dtype=int32)>)\n"
          ]
        }
      ]
    },
    {
      "cell_type": "code",
      "source": [
        "x1 = tf.constant([[1, 2, 3],\n",
        "                  [4, 5, 6]])\n",
        "x2 = tf.constant([[1, 2],\n",
        "                  [3, 4],\n",
        "                  [5, 6]])\n",
        "# not element-wise multipication, this is matrix multipication\n",
        "print(tf.linalg.matmul(x1, x2))\n",
        "# @ operator is a matrix multipication operator\n",
        "print(x1 @ x2)"
      ],
      "metadata": {
        "colab": {
          "base_uri": "https://localhost:8080/"
        },
        "id": "SF3NLIYiELmo",
        "outputId": "d0e6e073-22f9-443c-b22d-ef6d1c551f94"
      },
      "execution_count": 16,
      "outputs": [
        {
          "output_type": "stream",
          "name": "stdout",
          "text": [
            "tf.Tensor(\n",
            "[[22 28]\n",
            " [49 64]], shape=(2, 2), dtype=int32)\n",
            "tf.Tensor(\n",
            "[[22 28]\n",
            " [49 64]], shape=(2, 2), dtype=int32)\n"
          ]
        }
      ]
    },
    {
      "cell_type": "code",
      "source": [
        "x1 = tf.constant([[1, 2, 3],\n",
        "                  [4, 5, 6]])\n",
        "print(tf.transpose(x1))"
      ],
      "metadata": {
        "colab": {
          "base_uri": "https://localhost:8080/"
        },
        "id": "Cxj3LO35G8qS",
        "outputId": "9f504849-31e3-4fb7-bf43-baadfc1662bc"
      },
      "execution_count": 3,
      "outputs": [
        {
          "output_type": "stream",
          "name": "stdout",
          "text": [
            "tf.Tensor(\n",
            "[[1 4]\n",
            " [2 5]\n",
            " [3 6]], shape=(3, 2), dtype=int32)\n"
          ]
        }
      ]
    },
    {
      "cell_type": "code",
      "source": [],
      "metadata": {
        "id": "sn7qniDwIAEg"
      },
      "execution_count": null,
      "outputs": []
    }
  ]
}